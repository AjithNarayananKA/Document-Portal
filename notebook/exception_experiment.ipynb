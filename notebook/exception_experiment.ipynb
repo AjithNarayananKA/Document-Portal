{
 "cells": [
  {
   "cell_type": "code",
   "execution_count": 1,
   "id": "9ca6cf4a",
   "metadata": {},
   "outputs": [
    {
     "name": "stdout",
     "output_type": "stream",
     "text": [
      "hi\n"
     ]
    }
   ],
   "source": [
    "print(\"hi\")"
   ]
  },
  {
   "cell_type": "code",
   "execution_count": 7,
   "id": "f320953d",
   "metadata": {},
   "outputs": [],
   "source": [
    "from logger.custom_logger import CustomLogger"
   ]
  },
  {
   "cell_type": "code",
   "execution_count": null,
   "id": "9818800b",
   "metadata": {},
   "outputs": [],
   "source": [
    "### __file__ in .py file automatically gets the name of the file\n",
    "# logger = CustomLogger().get_Logger(__file__)\n",
    "logger = CustomLogger().get_Logger(\"exception experiment\")"
   ]
  },
  {
   "cell_type": "code",
   "execution_count": 14,
   "id": "3fd4b18a",
   "metadata": {},
   "outputs": [
    {
     "name": "stdout",
     "output_type": "stream",
     "text": [
      "(<class 'ZeroDivisionError'>, ZeroDivisionError('division by zero'), <traceback object at 0x0000019E90635F40>)\n"
     ]
    },
    {
     "ename": "DocumentPortalException",
     "evalue": "Error in [C:\\Users\\ajith\\AppData\\Local\\Temp\\ipykernel_26372\\4006311922.py] at line [18]\n        Message: division by zero \n        Traceback: Traceback (most recent call last):\n  File \"C:\\Users\\ajith\\AppData\\Local\\Temp\\ipykernel_26372\\4006311922.py\", line 18, in <module>\n    a=1/0\n      ~^~\nZeroDivisionError: division by zero\n ",
     "output_type": "error",
     "traceback": [
      "\u001b[31m---------------------------------------------------------------------------\u001b[39m",
      "\u001b[31mZeroDivisionError\u001b[39m                         Traceback (most recent call last)",
      "\u001b[36mCell\u001b[39m\u001b[36m \u001b[39m\u001b[32mIn[14]\u001b[39m\u001b[32m, line 18\u001b[39m\n\u001b[32m     17\u001b[39m \u001b[38;5;28;01mtry\u001b[39;00m:\n\u001b[32m---> \u001b[39m\u001b[32m18\u001b[39m     a=\u001b[32;43m1\u001b[39;49m\u001b[43m/\u001b[49m\u001b[32;43m0\u001b[39;49m\n\u001b[32m     19\u001b[39m     \u001b[38;5;28mprint\u001b[39m(a)\n",
      "\u001b[31mZeroDivisionError\u001b[39m: division by zero",
      "\nDuring handling of the above exception, another exception occurred:\n",
      "\u001b[31mDocumentPortalException\u001b[39m                   Traceback (most recent call last)",
      "\u001b[36mCell\u001b[39m\u001b[36m \u001b[39m\u001b[32mIn[14]\u001b[39m\u001b[32m, line 23\u001b[39m\n\u001b[32m     21\u001b[39m app_exp = DocumentPortalException(e,sys)\n\u001b[32m     22\u001b[39m logger.error(app_exp)\n\u001b[32m---> \u001b[39m\u001b[32m23\u001b[39m \u001b[38;5;28;01mraise\u001b[39;00m app_exp\n",
      "\u001b[31mDocumentPortalException\u001b[39m: Error in [C:\\Users\\ajith\\AppData\\Local\\Temp\\ipykernel_26372\\4006311922.py] at line [18]\n        Message: division by zero \n        Traceback: Traceback (most recent call last):\n  File \"C:\\Users\\ajith\\AppData\\Local\\Temp\\ipykernel_26372\\4006311922.py\", line 18, in <module>\n    a=1/0\n      ~^~\nZeroDivisionError: division by zero\n "
     ]
    }
   ],
   "source": [
    "import sys\n",
    "import traceback\n",
    "class DocumentPortalException(Exception):\n",
    "    \"\"\"Custom Exception for Document Portal\"\"\"\n",
    "    def __init__(self,error_message,error_details:sys):\n",
    "        print(error_details.exc_info())\n",
    "        _,_,exc_tb = error_details.exc_info()\n",
    "        self.filename = exc_tb.tb_frame.f_code.co_filename\n",
    "        self.lineno = exc_tb.tb_lineno\n",
    "        self.error_message = str(error_message)\n",
    "        self.traceback_str = ''.join(traceback.format_exception(*error_details.exc_info()))\n",
    "    def __str__(self):\n",
    "        return f\"\"\"Error in [{self.filename}] at line [{self.lineno}]\n",
    "        Message: {self.error_message} \n",
    "        Traceback: {self.traceback_str} \"\"\"\n",
    "if __name__ ==\"__main__\":\n",
    "    try:\n",
    "        a=1/0\n",
    "        print(a)\n",
    "    except Exception as e:\n",
    "        app_exp = DocumentPortalException(e,sys)\n",
    "        logger.error(app_exp)\n",
    "        raise app_exp"
   ]
  },
  {
   "cell_type": "markdown",
   "id": "4f97651e",
   "metadata": {},
   "source": [
    "## Differences between log error and raise exception\n",
    "\n",
    "1. log this error(file, cloud config, command prompt) (it will keep the record of the error and will not stop the execution of the code)\n",
    "2. raise the exception(it will stop the execution of the code)"
   ]
  },
  {
   "cell_type": "code",
   "execution_count": null,
   "id": "d972ded0",
   "metadata": {},
   "outputs": [],
   "source": []
  }
 ],
 "metadata": {
  "kernelspec": {
   "display_name": "doc_portal_venv",
   "language": "python",
   "name": "python3"
  },
  "language_info": {
   "codemirror_mode": {
    "name": "ipython",
    "version": 3
   },
   "file_extension": ".py",
   "mimetype": "text/x-python",
   "name": "python",
   "nbconvert_exporter": "python",
   "pygments_lexer": "ipython3",
   "version": "3.13.7"
  }
 },
 "nbformat": 4,
 "nbformat_minor": 5
}
